{
 "cells": [
  {
   "cell_type": "code",
   "execution_count": 1,
   "metadata": {},
   "outputs": [],
   "source": [
    "import pickle\n",
    "import h5py\n",
    "import matplotlib.pyplot as plt\n",
    "import numpy as np"
   ]
  },
  {
   "cell_type": "code",
   "execution_count": 2,
   "metadata": {},
   "outputs": [],
   "source": [
    "with open('result/outer_cv.pkl', 'rb') as f:\n",
    "    results = pickle.load(f)\n",
    "with open('result/args.pkl', 'rb') as f:\n",
    "    args = pickle.load(f)"
   ]
  },
  {
   "cell_type": "code",
   "execution_count": 3,
   "metadata": {},
   "outputs": [
    {
     "name": "stdout",
     "output_type": "stream",
     "text": [
      "/home/pjarosik/data/simulated/piston/1cm.hdf5\n"
     ]
    }
   ],
   "source": [
    "print(args.path)"
   ]
  },
  {
   "cell_type": "code",
   "execution_count": 4,
   "metadata": {},
   "outputs": [],
   "source": [
    "input_data = h5py.File(args.path, 'r')"
   ]
  },
  {
   "cell_type": "code",
   "execution_count": 8,
   "metadata": {},
   "outputs": [
    {
     "name": "stdout",
     "output_type": "stream",
     "text": [
      "Number of training examples: 96768\n",
      "Number of test examples: 41472\n",
      "All indices size: 138240, min 0, max 138239\n",
      "Shape of the X: (138240, 1300)\n"
     ]
    }
   ],
   "source": [
    "train_idx = results[0]['train_idx']\n",
    "test_idx = results[0]['test_idx']\n",
    "print(\"Number of training examples: %d\" % len(train_idx))\n",
    "print(\"Number of test examples: %d\" % len(test_idx))\n",
    "\n",
    "# czy indeksy chunków sie nie nakladaja?\n",
    "test_idx_set = set(train_idx) \n",
    "train_idx_set = set(test_idx)\n",
    "assert len(test_idx_set.intersection(train_idx_set)) == 0\n",
    "    \n",
    "# czy indeksy z results pokrywajac w calosci wymiar z X?    \n",
    "all_indices = test_idx_set.union(train_idx_set)\n",
    "print(\"All indices size: %d, min %d, max %d\" % (len(all_indices), min(all_indices), max(all_indices)))\n",
    "print(\"Shape of the X: %s\" % str(input_data['X'].shape))\n",
    "assert len(all_indices) == input_data['X'].shape[0]"
   ]
  },
  {
   "cell_type": "code",
   "execution_count": 6,
   "metadata": {},
   "outputs": [],
   "source": [
    "train_y = input_data['y'][train_idx.tolist()]\n",
    "test_y = input_data['y'][test_idx.tolist()]"
   ]
  },
  {
   "cell_type": "code",
   "execution_count": 10,
   "metadata": {},
   "outputs": [
    {
     "name": "stdout",
     "output_type": "stream",
     "text": [
      "Distribution of the alpha value in training and test datasets.\n",
      "Training\n"
     ]
    },
    {
     "data": {
      "image/png": "[encoded data removed]",
      "text/plain": [
       "<Figure size 432x288 with 1 Axes>"
      ]
     },
     "metadata": {
      "needs_background": "light"
     },
     "output_type": "display_data"
    },
    {
     "name": "stdout",
     "output_type": "stream",
     "text": [
      "Testing\n"
     ]
    },
    {
     "data": {
      "image/png": "[encoded data removed]",
      "text/plain": [
       "<Figure size 432x288 with 1 Axes>"
      ]
     },
     "metadata": {
      "needs_background": "light"
     },
     "output_type": "display_data"
    }
   ],
   "source": [
    "# ile chunkow dla poszczegolnych wartosci alpha\n",
    "print(\"Distribution of the alpha value in training and test datasets.\")\n",
    "print(\"Training\")\n",
    "plt.hist(train_y, edgecolor='black', linewidth=1.2, bins=np.arange(0, 2, .1))\n",
    "plt.show()\n",
    "print(\"Testing\")\n",
    "plt.hist(test_y, edgecolor='black', linewidth=1.2, bins=np.arange(0, 2, .1))\n",
    "plt.show()"
   ]
  }
 ],
 "metadata": {
  "kernelspec": {
   "display_name": "Python 3",
   "language": "python",
   "name": "python3"
  },
  "language_info": {
   "codemirror_mode": {
    "name": "ipython",
    "version": 3
   },
   "file_extension": ".py",
   "mimetype": "text/x-python",
   "name": "python",
   "nbconvert_exporter": "python",
   "pygments_lexer": "ipython3",
   "version": "3.6.0"
  }
 },
 "nbformat": 4,
 "nbformat_minor": 2
}
